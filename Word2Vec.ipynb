{
 "cells": [
  {
   "cell_type": "markdown",
   "metadata": {},
   "source": [
    "# CS5785 final\n",
    "## Xianhui Li, Zimeng Zhu"
   ]
  },
  {
   "cell_type": "markdown",
   "metadata": {},
   "source": [
    "### First we load libraries, define our train/test split, and load the word2vec dictionary using gensim"
   ]
  },
  {
   "cell_type": "code",
   "execution_count": 1,
   "metadata": {},
   "outputs": [
    {
     "name": "stdout",
     "output_type": "stream",
     "text": [
      "Loaded word vectors successfully!\n"
     ]
    }
   ],
   "source": [
    "import os\n",
    "import csv\n",
    "import random\n",
    "import gensim\n",
    "import numpy as np\n",
    "\n",
    "num_train = 8000\n",
    "num_dev = 2000\n",
    "num_test = 2000\n",
    "split_idx = list(range(num_train + num_dev))\n",
    "random.shuffle(split_idx)\n",
    "word2vec = gensim.models.KeyedVectors.load_word2vec_format(\"GoogleNews-vectors-negative300.bin.gz\", binary=True)\n",
    "print(\"Loaded word vectors successfully!\")"
   ]
  },
  {
   "cell_type": "markdown",
   "metadata": {},
   "source": [
    "\n",
    "### Next we parse the descriptions to form the X matrices\n"
   ]
  },
  {
   "cell_type": "code",
   "execution_count": 73,
   "metadata": {},
   "outputs": [
    {
     "name": "stdout",
     "output_type": "stream",
     "text": [
      "Built all x matrices!\n",
      "x_train shape: (8000, 300)\n",
      "x_dev shape: (2000, 300)\n",
      "x_test shape: (2000, 300)\n"
     ]
    }
   ],
   "source": [
    "def parse_descriptions(data_dir, num_doc):\n",
    "    docs = []\n",
    "    for i in range(num_doc):\n",
    "        path = os.path.join(data_dir, \"%d.txt\" % i)\n",
    "        with open(path) as f:\n",
    "            docs.append(f.read())\n",
    "    return docs\n",
    "\n",
    "def doc_to_vec(sentence, word2vec):\n",
    "    # get list of word vectors in sentence\n",
    "    word_vecs = [word2vec.get_vector(w) for w in sentence.split() if w in word2vec.vocab]\n",
    "    # return average\n",
    "    return np.stack(word_vecs).mean(0)\n",
    "\n",
    "# build x matrices\n",
    "train_dev_desc = parse_descriptions(\"descriptions_train\", num_doc=(num_train+num_dev))\n",
    "test_desc = parse_descriptions(\"descriptions_test\", num_doc=num_test)\n",
    "x_train = np.array([doc_to_vec(train_dev_desc[i], word2vec) for i in split_idx[:num_train]])\n",
    "x_dev = np.array([doc_to_vec(train_dev_desc[i], word2vec) for i in split_idx[num_train:]])\n",
    "x_test = np.array([doc_to_vec(d, word2vec) for d in test_desc])\n",
    "\n",
    "print(\"Built all x matrices!\")\n",
    "print(\"x_train shape:\", x_train.shape)\n",
    "print(\"x_dev shape:\", x_dev.shape)\n",
    "print(\"x_test shape:\", x_test.shape)\n"
   ]
  },
  {
   "cell_type": "markdown",
   "metadata": {},
   "source": [
    "\n",
    "### In addition we parse the ResNet features to form the Y matrices\n"
   ]
  },
  {
   "cell_type": "code",
   "execution_count": 74,
   "metadata": {},
   "outputs": [
    {
     "name": "stdout",
     "output_type": "stream",
     "text": [
      "Built all y matrices!\n",
      "y_train shape: (8000, 400)\n",
      "y_dev shape: (2000, 400)\n",
      "y_test shape: (2000, 400)\n"
     ]
    }
   ],
   "source": [
    "def parse_features(features_path):\n",
    "    vec_map = {}\n",
    "    with open(features_path) as f:\n",
    "        for row in csv.reader(f):\n",
    "            img_id = int(row[0].split(\"/\")[1].split(\".\")[0])\n",
    "            vec_map[img_id] = np.array([float(x) for x in row[1:]])\n",
    "    return np.array([v for k, v in sorted(vec_map.items())])\n",
    "\n",
    "# build y matrices\n",
    "p = np.random.randn(1000, 400)\n",
    "y_train_dev = parse_features(\"features_train/features_resnet1000_train.csv\") @ p\n",
    "y_train = y_train_dev[split_idx[:num_train]]\n",
    "y_dev = y_train_dev[split_idx[num_train:]]\n",
    "y_test = parse_features(\"features_test/features_resnet1000_test.csv\") @ p\n",
    "\n",
    "print(\"Built all y matrices!\")\n",
    "print(\"y_train shape:\", y_train.shape)\n",
    "print(\"y_dev shape:\", y_dev.shape)\n",
    "print(\"y_test shape:\", y_test.shape)"
   ]
  },
  {
   "cell_type": "markdown",
   "metadata": {},
   "source": [
    "\n",
    "### Parse the image tags to form the Z matrices\n"
   ]
  },
  {
   "cell_type": "code",
   "execution_count": 75,
   "metadata": {},
   "outputs": [
    {
     "name": "stdout",
     "output_type": "stream",
     "text": [
      "Built all z matrices!\n",
      "z_train shape: (8000, 300)\n",
      "z_dev shape: (2000, 300)\n",
      "z_test shape: (2000, 300)\n"
     ]
    }
   ],
   "source": [
    "def tag_to_vec(sentence, word2vec):\n",
    "    # get list of word vectors in sentence\n",
    "    word_vecs = [word2vec.get_vector(w) for w in sentence.split(':') if w in word2vec.vocab]\n",
    "    # return average\n",
    "    if len(word_vecs) == 0:\n",
    "        return [0 for x in list(range(300))]\n",
    "    else:\n",
    "        return np.stack(word_vecs).mean(0)\n",
    "\n",
    "# build z matrices\n",
    "train_dev_tags = parse_descriptions(\"tags_train\", num_doc=(num_train+num_dev))\n",
    "test_tags = parse_descriptions(\"tags_test\", num_doc=num_test)\n",
    "z_train = np.array([tag_to_vec(train_dev_tags[i], word2vec) for i in split_idx[:num_train]])\n",
    "z_dev = np.array([tag_to_vec(train_dev_tags[i], word2vec) for i in split_idx[num_train:]])\n",
    "z_test = np.array([tag_to_vec(d, word2vec) for d in test_tags])\n",
    "\n",
    "print(\"Built all z matrices!\")\n",
    "print(\"z_train shape:\", z_train.shape)\n",
    "print(\"z_dev shape:\", z_dev.shape)\n",
    "print(\"z_test shape:\", z_test.shape)"
   ]
  },
  {
   "cell_type": "markdown",
   "metadata": {},
   "source": [
    "### Combine ResNet features (Y) and tags (Z)"
   ]
  },
  {
   "cell_type": "code",
   "execution_count": 28,
   "metadata": {},
   "outputs": [
    {
     "name": "stdout",
     "output_type": "stream",
     "text": [
      "Built all new x matrices!\n",
      "new x_train shape: (8000, 400)\n",
      "new x_dev shape: (2000, 400)\n",
      "new x_test shape: (2000, 400)\n"
     ]
    }
   ],
   "source": [
    "y_train = np.hstack((y_train,z_train))\n",
    "y_dev = np.hstack((y_dev,z_dev))\n",
    "y_test = np.hstack((y_test,z_test))\n",
    "\n",
    "print(\"Built all new x matrices!\")\n",
    "print(\"new x_train shape:\", y_train.shape)\n",
    "print(\"new x_dev shape:\", y_dev.shape)\n",
    "print(\"new x_test shape:\", y_test.shape)"
   ]
  },
  {
   "cell_type": "markdown",
   "metadata": {},
   "source": [
    "\n",
    "### Now we train a linear model to predict the ResNet features from the mean word vectors\n"
   ]
  },
  {
   "cell_type": "code",
   "execution_count": 76,
   "metadata": {},
   "outputs": [
    {
     "name": "stdout",
     "output_type": "stream",
     "text": [
      "Trained linear regression model!\n",
      "Summary of best model:\n",
      "Ridge(alpha=1.0, copy_X=True, fit_intercept=True, max_iter=None,\n",
      "   normalize=False, random_state=None, solver='auto', tol=0.001)\n"
     ]
    }
   ],
   "source": [
    "from sklearn.linear_model import Ridge\n",
    "from sklearn.model_selection import GridSearchCV\n",
    "\n",
    "# train OLS model with regression\n",
    "parameters = {\"alpha\": [0.1, 0.5, 1.0, 5.0]}\n",
    "reg = GridSearchCV(Ridge(), parameters, cv=10)\n",
    "reg.fit(x_train, y_train)\n",
    "reg_best = reg.best_estimator_\n",
    "\n",
    "print(\"Trained linear regression model!\")\n",
    "print(\"Summary of best model:\")\n",
    "print(reg_best)"
   ]
  },
  {
   "cell_type": "markdown",
   "metadata": {},
   "source": [
    "\n",
    "### Next we test out our linear model on our development data, computing its MAP@20, and investigating the quality of the rankings\n"
   ]
  },
  {
   "cell_type": "code",
   "execution_count": 78,
   "metadata": {},
   "outputs": [
    {
     "name": "stdout",
     "output_type": "stream",
     "text": [
      "Development MAP@20: 0.13089665989540214\n",
      "Mean index of true image 89.951\n",
      "Median index of true image 26.0\n"
     ]
    }
   ],
   "source": [
    "def dist_matrix(x1, x2):\n",
    "    return ((np.expand_dims(x1, 1) - np.expand_dims(x2, 0)) ** 2).sum(2) ** 0.5\n",
    "\n",
    "# test performance on development set\n",
    "y_dev_pred = reg.predict(x_dev)\n",
    "dev_distances = dist_matrix(y_dev_pred, y_dev)\n",
    "dev_scores = []\n",
    "dev_pos_list = []\n",
    "\n",
    "for i in range(num_dev):\n",
    "    pred_dist_idx = list(np.argsort(dev_distances[i]))\n",
    "    dev_pos = pred_dist_idx.index(i)\n",
    "    dev_pos_list.append(dev_pos)\n",
    "    if dev_pos < 20:\n",
    "        dev_scores.append(1 / (dev_pos + 1))\n",
    "    else:\n",
    "        dev_scores.append(0.0)\n",
    "\n",
    "print(\"Development MAP@20:\", np.mean(dev_scores))\n",
    "print(\"Mean index of true image\", np.mean(dev_pos_list))\n",
    "print(\"Median index of true image\", np.median(dev_pos_list))"
   ]
  },
  {
   "cell_type": "markdown",
   "metadata": {},
   "source": [
    "### Train Random Forest"
   ]
  },
  {
   "cell_type": "code",
   "execution_count": 80,
   "metadata": {},
   "outputs": [
    {
     "data": {
      "text/plain": [
       "RandomForestRegressor(bootstrap=True, criterion='mse', max_depth=None,\n",
       "           max_features='auto', max_leaf_nodes=None,\n",
       "           min_impurity_split=1e-07, min_samples_leaf=1,\n",
       "           min_samples_split=2, min_weight_fraction_leaf=0.0,\n",
       "           n_estimators=10, n_jobs=1, oob_score=False, random_state=None,\n",
       "           verbose=0, warm_start=False)"
      ]
     },
     "execution_count": 80,
     "metadata": {},
     "output_type": "execute_result"
    }
   ],
   "source": [
    "from sklearn.ensemble import RandomForestRegressor\n",
    "\n",
    "# train RF model\n",
    "param = { \n",
    "    'n_estimators': [50,100],\n",
    "    'max_depth' : [5,10,20,30]\n",
    "}\n",
    "#clf = GridSearchCV(RandomForestRegressor(), param)\n",
    "clf = RandomForestRegressor()\n",
    "clf.fit(x_train, y_train)\n",
    "#clf_best = clf.best_estimator_\n",
    "#print(\"Trained linear regression model!\")\n",
    "#print(\"Summary of best model:\")\n",
    "#print(clf_best)"
   ]
  },
  {
   "cell_type": "code",
   "execution_count": 81,
   "metadata": {},
   "outputs": [
    {
     "name": "stdout",
     "output_type": "stream",
     "text": [
      "(2000, 400)\n",
      "Development MAP@20: 0.06815187958326503\n",
      "Mean index of true image 209.146\n",
      "Median index of true image 70.0\n"
     ]
    }
   ],
   "source": [
    "# MAP@20 of random forest\n",
    "y_dev_pred = clf.predict(x_dev)\n",
    "dev_distances = dist_matrix(y_dev_pred, y_dev)\n",
    "dev_scores = []\n",
    "dev_pos_list = []\n",
    "print(y_dev_pred.shape)\n",
    "for i in range(num_dev):\n",
    "    pred_dist_idx = list(np.argsort(dev_distances[i]))\n",
    "    dev_pos = pred_dist_idx.index(i)\n",
    "    dev_pos_list.append(dev_pos)\n",
    "    if dev_pos < 20:\n",
    "        dev_scores.append(1 / (dev_pos + 1))\n",
    "    else:\n",
    "        dev_scores.append(0.0)\n",
    "\n",
    "print(\"Development MAP@20:\", np.mean(dev_scores))\n",
    "print(\"Mean index of true image\", np.mean(dev_pos_list))\n",
    "print(\"Median index of true image\", np.median(dev_pos_list))"
   ]
  },
  {
   "cell_type": "markdown",
   "metadata": {},
   "source": [
    "### predict tags"
   ]
  },
  {
   "cell_type": "code",
   "execution_count": 83,
   "metadata": {},
   "outputs": [
    {
     "name": "stdout",
     "output_type": "stream",
     "text": [
      "Trained linear regression model!\n",
      "Summary of best model:\n",
      "Ridge(alpha=1.0, copy_X=True, fit_intercept=True, max_iter=None,\n",
      "   normalize=False, random_state=None, solver='auto', tol=0.001)\n"
     ]
    }
   ],
   "source": [
    "# train OLS model with ridge regression\n",
    "parameters = {\"alpha\": [0.1, 0.5, 1.0, 5.0]}\n",
    "reg = GridSearchCV(Ridge(), parameters, cv=10)\n",
    "reg.fit(x_train, z_train)\n",
    "reg_best = reg.best_estimator_\n",
    "\n",
    "print(\"Trained linear regression model!\")\n",
    "print(\"Summary of best model:\")\n",
    "print(reg_best)"
   ]
  },
  {
   "cell_type": "code",
   "execution_count": 84,
   "metadata": {},
   "outputs": [
    {
     "name": "stdout",
     "output_type": "stream",
     "text": [
      "Development MAP@20: 0.013009099637892207\n",
      "Mean index of true image 293.384\n",
      "Median index of true image 196.0\n"
     ]
    }
   ],
   "source": [
    "# test performance on development set\n",
    "z_dev_pred = reg.predict(x_dev)\n",
    "dev_distances = dist_matrix(z_dev_pred, z_dev)\n",
    "dev_scores = []\n",
    "dev_pos_list = []\n",
    "\n",
    "for i in range(num_dev):\n",
    "    pred_dist_idx = list(np.argsort(dev_distances[i]))\n",
    "    dev_pos = pred_dist_idx.index(i)\n",
    "    dev_pos_list.append(dev_pos)\n",
    "    if dev_pos < 20:\n",
    "        dev_scores.append(1 / (dev_pos + 1))\n",
    "    else:\n",
    "        dev_scores.append(0.0)\n",
    "\n",
    "print(\"Development MAP@20:\", np.mean(dev_scores))\n",
    "print(\"Mean index of true image\", np.mean(dev_pos_list))\n",
    "print(\"Median index of true image\", np.median(dev_pos_list))"
   ]
  },
  {
   "cell_type": "code",
   "execution_count": 86,
   "metadata": {},
   "outputs": [
    {
     "data": {
      "text/plain": [
       "RandomForestRegressor(bootstrap=True, criterion='mse', max_depth=None,\n",
       "           max_features='auto', max_leaf_nodes=None,\n",
       "           min_impurity_split=1e-07, min_samples_leaf=1,\n",
       "           min_samples_split=2, min_weight_fraction_leaf=0.0,\n",
       "           n_estimators=10, n_jobs=1, oob_score=False, random_state=None,\n",
       "           verbose=0, warm_start=False)"
      ]
     },
     "execution_count": 86,
     "metadata": {},
     "output_type": "execute_result"
    }
   ],
   "source": [
    "# train RF model\n",
    "clf = RandomForestRegressor()\n",
    "clf.fit(x_train, z_train)"
   ]
  },
  {
   "cell_type": "code",
   "execution_count": 87,
   "metadata": {},
   "outputs": [
    {
     "name": "stdout",
     "output_type": "stream",
     "text": [
      "Development MAP@20: 0.010140175955365585\n",
      "Mean index of true image 380.895\n",
      "Median index of true image 230.0\n"
     ]
    }
   ],
   "source": [
    "# MAP@20 of random forest\n",
    "z_dev_pred = clf.predict(x_dev)\n",
    "dev_distances = dist_matrix(z_dev_pred, z_dev)\n",
    "dev_scores = []\n",
    "dev_pos_list = []\n",
    "for i in range(num_dev):\n",
    "    pred_dist_idx = list(np.argsort(dev_distances[i]))\n",
    "    dev_pos = pred_dist_idx.index(i)\n",
    "    dev_pos_list.append(dev_pos)\n",
    "    if dev_pos < 20:\n",
    "        dev_scores.append(1 / (dev_pos + 1))\n",
    "    else:\n",
    "        dev_scores.append(0.0)\n",
    "\n",
    "print(\"Development MAP@20:\", np.mean(dev_scores))\n",
    "print(\"Mean index of true image\", np.mean(dev_pos_list))\n",
    "print(\"Median index of true image\", np.median(dev_pos_list))"
   ]
  },
  {
   "cell_type": "markdown",
   "metadata": {},
   "source": [
    "\n",
    "### Finally we use our model to compute top-20 predictions on the test data that can be submitted to Kaggle\n"
   ]
  },
  {
   "cell_type": "code",
   "execution_count": 31,
   "metadata": {},
   "outputs": [
    {
     "name": "stdout",
     "output_type": "stream",
     "text": [
      "Output written!\n"
     ]
    }
   ],
   "source": [
    "# create test predictions\n",
    "x_train_all = np.concatenate([x_train, x_dev])\n",
    "y_train_all = np.concatenate([y_train, y_dev])\n",
    "reg_best.fit(x_train_all, y_train_all)\n",
    "y_test_pred = reg_best.predict(x_test)\n",
    "test_distances = dist_matrix(y_test_pred, y_test)\n",
    "pred_rows = []\n",
    "\n",
    "for i in range(num_test):\n",
    "    test_dist_idx = list(np.argsort(test_distances[i]))\n",
    "    top_20 = test_dist_idx[:20]\n",
    "    row = [\"%d.jpg\" % i for i in test_dist_idx[:20]]\n",
    "    pred_rows.append(\" \".join(row))\n",
    "\n",
    "with open(\"test_submission.csv\", \"w\") as f:\n",
    "    f.write(\"Descritpion_ID,Top_20_Image_IDs\\n\")\n",
    "    for i, row in enumerate(pred_rows):\n",
    "        f.write(\"%d.txt,%s\\n\" % (i, row))\n",
    "\n",
    "print(\"Output written!\")"
   ]
  },
  {
   "cell_type": "code",
   "execution_count": null,
   "metadata": {
    "collapsed": true
   },
   "outputs": [],
   "source": []
  }
 ],
 "metadata": {
  "kernelspec": {
   "display_name": "Python 3",
   "language": "python",
   "name": "python3"
  },
  "language_info": {
   "codemirror_mode": {
    "name": "ipython",
    "version": 3
   },
   "file_extension": ".py",
   "mimetype": "text/x-python",
   "name": "python",
   "nbconvert_exporter": "python",
   "pygments_lexer": "ipython3",
   "version": "3.7.0"
  }
 },
 "nbformat": 4,
 "nbformat_minor": 2
}
